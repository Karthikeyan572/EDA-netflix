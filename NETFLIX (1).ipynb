{
  "cells": [
    {
      "cell_type": "code",
      "execution_count": 4,
      "metadata": {
        "id": "fw_PVUx3h0vy"
      },
      "outputs": [],
      "source": [
        "import pandas as pd\n",
        "import numpy as np\n",
        "import sympy as sp\n",
        "import matplotlib.pyplot as plt"
      ]
    },
    {
      "cell_type": "code",
      "execution_count": 5,
      "metadata": {
        "id": "20MFQmDViIft"
      },
      "outputs": [],
      "source": [
        "df = pd.read_csv(r'D:\\git\\netflix\\netflix_titles.csv')"
      ]
    },
    {
      "cell_type": "code",
      "execution_count": 6,
      "metadata": {
        "colab": {
          "base_uri": "https://localhost:8080/",
          "height": 570
        },
        "id": "dfJCTROxiRRV",
        "outputId": "37ae6ef0-9ba8-4859-d71b-9deed4cd23be"
      },
      "outputs": [
        {
          "data": {
            "text/html": [
              "<div>\n",
              "<style scoped>\n",
              "    .dataframe tbody tr th:only-of-type {\n",
              "        vertical-align: middle;\n",
              "    }\n",
              "\n",
              "    .dataframe tbody tr th {\n",
              "        vertical-align: top;\n",
              "    }\n",
              "\n",
              "    .dataframe thead th {\n",
              "        text-align: right;\n",
              "    }\n",
              "</style>\n",
              "<table border=\"1\" class=\"dataframe\">\n",
              "  <thead>\n",
              "    <tr style=\"text-align: right;\">\n",
              "      <th></th>\n",
              "      <th>show_id</th>\n",
              "      <th>type</th>\n",
              "      <th>title</th>\n",
              "      <th>director</th>\n",
              "      <th>cast</th>\n",
              "      <th>country</th>\n",
              "      <th>date_added</th>\n",
              "      <th>release_year</th>\n",
              "      <th>rating</th>\n",
              "      <th>duration</th>\n",
              "      <th>listed_in</th>\n",
              "      <th>description</th>\n",
              "    </tr>\n",
              "  </thead>\n",
              "  <tbody>\n",
              "    <tr>\n",
              "      <th>0</th>\n",
              "      <td>s1</td>\n",
              "      <td>Movie</td>\n",
              "      <td>Dick Johnson Is Dead</td>\n",
              "      <td>Kirsten Johnson</td>\n",
              "      <td>NaN</td>\n",
              "      <td>United States</td>\n",
              "      <td>September 25, 2021</td>\n",
              "      <td>2020</td>\n",
              "      <td>PG-13</td>\n",
              "      <td>90 min</td>\n",
              "      <td>Documentaries</td>\n",
              "      <td>As her father nears the end of his life, filmm...</td>\n",
              "    </tr>\n",
              "    <tr>\n",
              "      <th>1</th>\n",
              "      <td>s2</td>\n",
              "      <td>TV Show</td>\n",
              "      <td>Blood &amp; Water</td>\n",
              "      <td>NaN</td>\n",
              "      <td>Ama Qamata, Khosi Ngema, Gail Mabalane, Thaban...</td>\n",
              "      <td>South Africa</td>\n",
              "      <td>September 24, 2021</td>\n",
              "      <td>2021</td>\n",
              "      <td>TV-MA</td>\n",
              "      <td>2 Seasons</td>\n",
              "      <td>International TV Shows, TV Dramas, TV Mysteries</td>\n",
              "      <td>After crossing paths at a party, a Cape Town t...</td>\n",
              "    </tr>\n",
              "    <tr>\n",
              "      <th>2</th>\n",
              "      <td>s3</td>\n",
              "      <td>TV Show</td>\n",
              "      <td>Ganglands</td>\n",
              "      <td>Julien Leclercq</td>\n",
              "      <td>Sami Bouajila, Tracy Gotoas, Samuel Jouy, Nabi...</td>\n",
              "      <td>NaN</td>\n",
              "      <td>September 24, 2021</td>\n",
              "      <td>2021</td>\n",
              "      <td>TV-MA</td>\n",
              "      <td>1 Season</td>\n",
              "      <td>Crime TV Shows, International TV Shows, TV Act...</td>\n",
              "      <td>To protect his family from a powerful drug lor...</td>\n",
              "    </tr>\n",
              "    <tr>\n",
              "      <th>3</th>\n",
              "      <td>s4</td>\n",
              "      <td>TV Show</td>\n",
              "      <td>Jailbirds New Orleans</td>\n",
              "      <td>NaN</td>\n",
              "      <td>NaN</td>\n",
              "      <td>NaN</td>\n",
              "      <td>September 24, 2021</td>\n",
              "      <td>2021</td>\n",
              "      <td>TV-MA</td>\n",
              "      <td>1 Season</td>\n",
              "      <td>Docuseries, Reality TV</td>\n",
              "      <td>Feuds, flirtations and toilet talk go down amo...</td>\n",
              "    </tr>\n",
              "    <tr>\n",
              "      <th>4</th>\n",
              "      <td>s5</td>\n",
              "      <td>TV Show</td>\n",
              "      <td>Kota Factory</td>\n",
              "      <td>NaN</td>\n",
              "      <td>Mayur More, Jitendra Kumar, Ranjan Raj, Alam K...</td>\n",
              "      <td>India</td>\n",
              "      <td>September 24, 2021</td>\n",
              "      <td>2021</td>\n",
              "      <td>TV-MA</td>\n",
              "      <td>2 Seasons</td>\n",
              "      <td>International TV Shows, Romantic TV Shows, TV ...</td>\n",
              "      <td>In a city of coaching centers known to train I...</td>\n",
              "    </tr>\n",
              "  </tbody>\n",
              "</table>\n",
              "</div>"
            ],
            "text/plain": [
              "  show_id     type                  title         director  \\\n",
              "0      s1    Movie   Dick Johnson Is Dead  Kirsten Johnson   \n",
              "1      s2  TV Show          Blood & Water              NaN   \n",
              "2      s3  TV Show              Ganglands  Julien Leclercq   \n",
              "3      s4  TV Show  Jailbirds New Orleans              NaN   \n",
              "4      s5  TV Show           Kota Factory              NaN   \n",
              "\n",
              "                                                cast        country  \\\n",
              "0                                                NaN  United States   \n",
              "1  Ama Qamata, Khosi Ngema, Gail Mabalane, Thaban...   South Africa   \n",
              "2  Sami Bouajila, Tracy Gotoas, Samuel Jouy, Nabi...            NaN   \n",
              "3                                                NaN            NaN   \n",
              "4  Mayur More, Jitendra Kumar, Ranjan Raj, Alam K...          India   \n",
              "\n",
              "           date_added  release_year rating   duration  \\\n",
              "0  September 25, 2021          2020  PG-13     90 min   \n",
              "1  September 24, 2021          2021  TV-MA  2 Seasons   \n",
              "2  September 24, 2021          2021  TV-MA   1 Season   \n",
              "3  September 24, 2021          2021  TV-MA   1 Season   \n",
              "4  September 24, 2021          2021  TV-MA  2 Seasons   \n",
              "\n",
              "                                           listed_in  \\\n",
              "0                                      Documentaries   \n",
              "1    International TV Shows, TV Dramas, TV Mysteries   \n",
              "2  Crime TV Shows, International TV Shows, TV Act...   \n",
              "3                             Docuseries, Reality TV   \n",
              "4  International TV Shows, Romantic TV Shows, TV ...   \n",
              "\n",
              "                                         description  \n",
              "0  As her father nears the end of his life, filmm...  \n",
              "1  After crossing paths at a party, a Cape Town t...  \n",
              "2  To protect his family from a powerful drug lor...  \n",
              "3  Feuds, flirtations and toilet talk go down amo...  \n",
              "4  In a city of coaching centers known to train I...  "
            ]
          },
          "execution_count": 6,
          "metadata": {},
          "output_type": "execute_result"
        }
      ],
      "source": [
        "df.head()"
      ]
    },
    {
      "cell_type": "code",
      "execution_count": 7,
      "metadata": {
        "colab": {
          "base_uri": "https://localhost:8080/"
        },
        "id": "FfQbQZNriWgw",
        "outputId": "6a2a43e1-4cb7-4697-b4e7-699fa5fbe373"
      },
      "outputs": [
        {
          "data": {
            "text/plain": [
              "(8807, 12)"
            ]
          },
          "execution_count": 7,
          "metadata": {},
          "output_type": "execute_result"
        }
      ],
      "source": [
        "df.shape"
      ]
    },
    {
      "cell_type": "code",
      "execution_count": 8,
      "metadata": {
        "colab": {
          "base_uri": "https://localhost:8080/"
        },
        "id": "jWl2WpDjigAH",
        "outputId": "ebce3f31-49cf-4486-8409-de7b80746a06"
      },
      "outputs": [
        {
          "data": {
            "text/plain": [
              "Index(['show_id', 'type', 'title', 'director', 'cast', 'country', 'date_added',\n",
              "       'release_year', 'rating', 'duration', 'listed_in', 'description'],\n",
              "      dtype='object')"
            ]
          },
          "execution_count": 8,
          "metadata": {},
          "output_type": "execute_result"
        }
      ],
      "source": [
        "df.columns"
      ]
    },
    {
      "cell_type": "code",
      "execution_count": 9,
      "metadata": {
        "colab": {
          "base_uri": "https://localhost:8080/",
          "height": 460
        },
        "id": "AIau7UOgih3T",
        "outputId": "b8ef86d3-8cc9-4390-f453-6b64d81e1407"
      },
      "outputs": [
        {
          "data": {
            "text/plain": [
              "show_id         object\n",
              "type            object\n",
              "title           object\n",
              "director        object\n",
              "cast            object\n",
              "country         object\n",
              "date_added      object\n",
              "release_year     int64\n",
              "rating          object\n",
              "duration        object\n",
              "listed_in       object\n",
              "description     object\n",
              "dtype: object"
            ]
          },
          "execution_count": 9,
          "metadata": {},
          "output_type": "execute_result"
        }
      ],
      "source": [
        "df.dtypes"
      ]
    },
    {
      "cell_type": "code",
      "execution_count": 10,
      "metadata": {
        "colab": {
          "base_uri": "https://localhost:8080/",
          "height": 460
        },
        "id": "74d470d6",
        "outputId": "f3e22cd6-3c33-4294-be09-8d949bea994f"
      },
      "outputs": [
        {
          "data": {
            "text/plain": [
              "show_id            0\n",
              "type               0\n",
              "title              0\n",
              "director        2634\n",
              "cast             825\n",
              "country          831\n",
              "date_added        10\n",
              "release_year       0\n",
              "rating             4\n",
              "duration           3\n",
              "listed_in          0\n",
              "description        0\n",
              "dtype: int64"
            ]
          },
          "metadata": {},
          "output_type": "display_data"
        }
      ],
      "source": [
        "display(df.isnull().sum())"
      ]
    },
    {
      "cell_type": "code",
      "execution_count": 11,
      "metadata": {
        "id": "OMT7CicvL9lE"
      },
      "outputs": [],
      "source": [
        "df.dropna(inplace = True)"
      ]
    },
    {
      "cell_type": "code",
      "execution_count": 12,
      "metadata": {
        "colab": {
          "base_uri": "https://localhost:8080/",
          "height": 34
        },
        "id": "7M8RCETcjQJF",
        "outputId": "e82ee7c1-ecda-46af-accc-e24d398e889c"
      },
      "outputs": [
        {
          "data": {
            "text/plain": [
              "np.int64(0)"
            ]
          },
          "metadata": {},
          "output_type": "display_data"
        }
      ],
      "source": [
        "display(df.duplicated().sum())"
      ]
    },
    {
      "cell_type": "code",
      "execution_count": 13,
      "metadata": {
        "colab": {
          "base_uri": "https://localhost:8080/",
          "height": 300
        },
        "id": "1QmMY5v3jUMh",
        "outputId": "3678ce9b-3ca7-42e0-9a7d-fa3d030e65e6"
      },
      "outputs": [
        {
          "data": {
            "text/html": [
              "<div>\n",
              "<style scoped>\n",
              "    .dataframe tbody tr th:only-of-type {\n",
              "        vertical-align: middle;\n",
              "    }\n",
              "\n",
              "    .dataframe tbody tr th {\n",
              "        vertical-align: top;\n",
              "    }\n",
              "\n",
              "    .dataframe thead th {\n",
              "        text-align: right;\n",
              "    }\n",
              "</style>\n",
              "<table border=\"1\" class=\"dataframe\">\n",
              "  <thead>\n",
              "    <tr style=\"text-align: right;\">\n",
              "      <th></th>\n",
              "      <th>release_year</th>\n",
              "    </tr>\n",
              "  </thead>\n",
              "  <tbody>\n",
              "    <tr>\n",
              "      <th>count</th>\n",
              "      <td>5332.000000</td>\n",
              "    </tr>\n",
              "    <tr>\n",
              "      <th>mean</th>\n",
              "      <td>2012.742123</td>\n",
              "    </tr>\n",
              "    <tr>\n",
              "      <th>std</th>\n",
              "      <td>9.625831</td>\n",
              "    </tr>\n",
              "    <tr>\n",
              "      <th>min</th>\n",
              "      <td>1942.000000</td>\n",
              "    </tr>\n",
              "    <tr>\n",
              "      <th>25%</th>\n",
              "      <td>2011.000000</td>\n",
              "    </tr>\n",
              "    <tr>\n",
              "      <th>50%</th>\n",
              "      <td>2016.000000</td>\n",
              "    </tr>\n",
              "    <tr>\n",
              "      <th>75%</th>\n",
              "      <td>2018.000000</td>\n",
              "    </tr>\n",
              "    <tr>\n",
              "      <th>max</th>\n",
              "      <td>2021.000000</td>\n",
              "    </tr>\n",
              "  </tbody>\n",
              "</table>\n",
              "</div>"
            ],
            "text/plain": [
              "       release_year\n",
              "count   5332.000000\n",
              "mean    2012.742123\n",
              "std        9.625831\n",
              "min     1942.000000\n",
              "25%     2011.000000\n",
              "50%     2016.000000\n",
              "75%     2018.000000\n",
              "max     2021.000000"
            ]
          },
          "execution_count": 13,
          "metadata": {},
          "output_type": "execute_result"
        }
      ],
      "source": [
        "df.describe()"
      ]
    },
    {
      "cell_type": "code",
      "execution_count": 14,
      "metadata": {
        "colab": {
          "base_uri": "https://localhost:8080/",
          "height": 460
        },
        "id": "tzOFd2DzleWh",
        "outputId": "bc18f4ae-b7ca-4834-a879-38dccdb0dac1"
      },
      "outputs": [
        {
          "data": {
            "text/plain": [
              "show_id         5332\n",
              "type               2\n",
              "title           5332\n",
              "director        3945\n",
              "cast            5200\n",
              "country          604\n",
              "date_added      1453\n",
              "release_year      72\n",
              "rating            14\n",
              "duration         198\n",
              "listed_in        335\n",
              "description     5321\n",
              "dtype: int64"
            ]
          },
          "execution_count": 14,
          "metadata": {},
          "output_type": "execute_result"
        }
      ],
      "source": [
        "df.nunique()"
      ]
    },
    {
      "cell_type": "code",
      "execution_count": 15,
      "metadata": {
        "colab": {
          "base_uri": "https://localhost:8080/"
        },
        "id": "9e3a0037",
        "outputId": "5bd29d57-7f6c-4f77-c708-9e1c10478f8b"
      },
      "outputs": [
        {
          "name": "stdout",
          "output_type": "stream",
          "text": [
            "The most frequent country is: United States\n"
          ]
        }
      ],
      "source": [
        "most_frequent_country = df['country'].value_counts().index[0]\n",
        "print(f\"The most frequent country is: {most_frequent_country}\")"
      ]
    },
    {
      "cell_type": "code",
      "execution_count": 16,
      "metadata": {
        "colab": {
          "base_uri": "https://localhost:8080/",
          "height": 460
        },
        "id": "T09g-VhYm2On",
        "outputId": "8fea500a-6fc0-403d-cd08-608232ee2595"
      },
      "outputs": [
        {
          "data": {
            "image/png": "[encoded data removed]",
            "text/plain": [
              "<Figure size 1600x600 with 1 Axes>"
            ]
          },
          "metadata": {},
          "output_type": "display_data"
        }
      ],
      "source": [
        "movie_count = df['type'].value_counts()['Movie']\n",
        "tvshows_count = df['type'].value_counts()['TV Show']\n",
        "plt.figure(figsize=(16, 6))\n",
        "plt.bar(['Movies', 'TV Shows'], [movie_count, tvshows_count])\n",
        "plt.xlabel('Category')\n",
        "plt.ylabel('Count')\n",
        "plt.title('Movies vs TV Shows Distribution')\n",
        "plt.show()"
      ]
    },
    {
      "cell_type": "code",
      "execution_count": 17,
      "metadata": {
        "colab": {
          "base_uri": "https://localhost:8080/",
          "height": 539
        },
        "id": "jXP-1sjrn6PV",
        "outputId": "ca262e2e-f0c8-4e8b-8725-94e0d541f9b4"
      },
      "outputs": [
        {
          "data": {
            "image/png": "[encoded data removed]",
            "text/plain": [
              "<Figure size 1600x600 with 1 Axes>"
            ]
          },
          "metadata": {},
          "output_type": "display_data"
        }
      ],
      "source": [
        "country = df['country'].value_counts()\n",
        "\n",
        "plt.figure(figsize=(16, 6))\n",
        "plt.bar(country.index[:10], country.values[:10])\n",
        "plt.xlabel('Country')\n",
        "plt.ylabel('Count')\n",
        "plt.title('Top 10 Countries with the Most Content')\n",
        "plt.xticks(rotation=90)\n",
        "plt.show()"
      ]
    },
    {
      "cell_type": "code",
      "execution_count": 18,
      "metadata": {
        "colab": {
          "base_uri": "https://localhost:8080/",
          "height": 591
        },
        "id": "sSmzwVsmoqQ4",
        "outputId": "24cb83f6-e6a4-4ab1-b724-b5464abdc527"
      },
      "outputs": [
        {
          "data": {
            "image/png": "[encoded data removed]",
            "text/plain": [
              "<Figure size 1600x600 with 1 Axes>"
            ]
          },
          "metadata": {},
          "output_type": "display_data"
        }
      ],
      "source": [
        "genre_counts = df['listed_in'].str.split(',').explode().str.strip().value_counts()\n",
        "\n",
        "plt.figure(figsize=(16, 6))\n",
        "plt.bar(genre_counts.index[:10], genre_counts.values[:10])\n",
        "plt.xlabel('Genre')\n",
        "plt.ylabel('Count')\n",
        "plt.title('Top 10 Most Common Genres')\n",
        "plt.xticks(rotation=90)\n",
        "plt.show()"
      ]
    },
    {
      "cell_type": "code",
      "execution_count": 19,
      "metadata": {
        "colab": {
          "base_uri": "https://localhost:8080/",
          "height": 622
        },
        "id": "8QDJozswpq_6",
        "outputId": "2ffbea6e-f230-4eca-c187-7b37b80c1e86"
      },
      "outputs": [
        {
          "data": {
            "text/html": [
              "<div>\n",
              "<style scoped>\n",
              "    .dataframe tbody tr th:only-of-type {\n",
              "        vertical-align: middle;\n",
              "    }\n",
              "\n",
              "    .dataframe tbody tr th {\n",
              "        vertical-align: top;\n",
              "    }\n",
              "\n",
              "    .dataframe thead th {\n",
              "        text-align: right;\n",
              "    }\n",
              "</style>\n",
              "<table border=\"1\" class=\"dataframe\">\n",
              "  <thead>\n",
              "    <tr style=\"text-align: right;\">\n",
              "      <th></th>\n",
              "      <th>show_id</th>\n",
              "      <th>type</th>\n",
              "      <th>title</th>\n",
              "      <th>director</th>\n",
              "      <th>cast</th>\n",
              "      <th>country</th>\n",
              "      <th>date_added</th>\n",
              "      <th>release_year</th>\n",
              "      <th>rating</th>\n",
              "      <th>duration</th>\n",
              "      <th>listed_in</th>\n",
              "      <th>description</th>\n",
              "    </tr>\n",
              "  </thead>\n",
              "  <tbody>\n",
              "    <tr>\n",
              "      <th>7</th>\n",
              "      <td>s8</td>\n",
              "      <td>Movie</td>\n",
              "      <td>Sankofa</td>\n",
              "      <td>Haile Gerima</td>\n",
              "      <td>Kofi Ghanaba, Oyafunmike Ogunlano, Alexandra D...</td>\n",
              "      <td>United States, Ghana, Burkina Faso, United Kin...</td>\n",
              "      <td>September 24, 2021</td>\n",
              "      <td>1993</td>\n",
              "      <td>TV-MA</td>\n",
              "      <td>125 min</td>\n",
              "      <td>Dramas, Independent Movies, International Movies</td>\n",
              "      <td>On a photo shoot in Ghana, an American model s...</td>\n",
              "    </tr>\n",
              "    <tr>\n",
              "      <th>8</th>\n",
              "      <td>s9</td>\n",
              "      <td>TV Show</td>\n",
              "      <td>The Great British Baking Show</td>\n",
              "      <td>Andy Devonshire</td>\n",
              "      <td>Mel Giedroyc, Sue Perkins, Mary Berry, Paul Ho...</td>\n",
              "      <td>United Kingdom</td>\n",
              "      <td>September 24, 2021</td>\n",
              "      <td>2021</td>\n",
              "      <td>TV-14</td>\n",
              "      <td>9 Seasons</td>\n",
              "      <td>British TV Shows, Reality TV</td>\n",
              "      <td>A talented batch of amateur bakers face off in...</td>\n",
              "    </tr>\n",
              "    <tr>\n",
              "      <th>9</th>\n",
              "      <td>s10</td>\n",
              "      <td>Movie</td>\n",
              "      <td>The Starling</td>\n",
              "      <td>Theodore Melfi</td>\n",
              "      <td>Melissa McCarthy, Chris O'Dowd, Kevin Kline, T...</td>\n",
              "      <td>United States</td>\n",
              "      <td>September 24, 2021</td>\n",
              "      <td>2021</td>\n",
              "      <td>PG-13</td>\n",
              "      <td>104 min</td>\n",
              "      <td>Comedies, Dramas</td>\n",
              "      <td>A woman adjusting to life after a loss contend...</td>\n",
              "    </tr>\n",
              "    <tr>\n",
              "      <th>12</th>\n",
              "      <td>s13</td>\n",
              "      <td>Movie</td>\n",
              "      <td>Je Suis Karl</td>\n",
              "      <td>Christian Schwochow</td>\n",
              "      <td>Luna Wedler, Jannis Niewöhner, Milan Peschel, ...</td>\n",
              "      <td>Germany, Czech Republic</td>\n",
              "      <td>September 23, 2021</td>\n",
              "      <td>2021</td>\n",
              "      <td>TV-MA</td>\n",
              "      <td>127 min</td>\n",
              "      <td>Dramas, International Movies</td>\n",
              "      <td>After most of her family is murdered in a terr...</td>\n",
              "    </tr>\n",
              "    <tr>\n",
              "      <th>24</th>\n",
              "      <td>s25</td>\n",
              "      <td>Movie</td>\n",
              "      <td>Jeans</td>\n",
              "      <td>S. Shankar</td>\n",
              "      <td>Prashanth, Aishwarya Rai Bachchan, Sri Lakshmi...</td>\n",
              "      <td>India</td>\n",
              "      <td>September 21, 2021</td>\n",
              "      <td>1998</td>\n",
              "      <td>TV-14</td>\n",
              "      <td>166 min</td>\n",
              "      <td>Comedies, International Movies, Romantic Movies</td>\n",
              "      <td>When the father of the man she loves insists t...</td>\n",
              "    </tr>\n",
              "  </tbody>\n",
              "</table>\n",
              "</div>"
            ],
            "text/plain": [
              "   show_id     type                          title             director  \\\n",
              "7       s8    Movie                        Sankofa         Haile Gerima   \n",
              "8       s9  TV Show  The Great British Baking Show      Andy Devonshire   \n",
              "9      s10    Movie                   The Starling       Theodore Melfi   \n",
              "12     s13    Movie                   Je Suis Karl  Christian Schwochow   \n",
              "24     s25    Movie                          Jeans           S. Shankar   \n",
              "\n",
              "                                                 cast  \\\n",
              "7   Kofi Ghanaba, Oyafunmike Ogunlano, Alexandra D...   \n",
              "8   Mel Giedroyc, Sue Perkins, Mary Berry, Paul Ho...   \n",
              "9   Melissa McCarthy, Chris O'Dowd, Kevin Kline, T...   \n",
              "12  Luna Wedler, Jannis Niewöhner, Milan Peschel, ...   \n",
              "24  Prashanth, Aishwarya Rai Bachchan, Sri Lakshmi...   \n",
              "\n",
              "                                              country          date_added  \\\n",
              "7   United States, Ghana, Burkina Faso, United Kin...  September 24, 2021   \n",
              "8                                      United Kingdom  September 24, 2021   \n",
              "9                                       United States  September 24, 2021   \n",
              "12                            Germany, Czech Republic  September 23, 2021   \n",
              "24                                              India  September 21, 2021   \n",
              "\n",
              "    release_year rating   duration  \\\n",
              "7           1993  TV-MA    125 min   \n",
              "8           2021  TV-14  9 Seasons   \n",
              "9           2021  PG-13    104 min   \n",
              "12          2021  TV-MA    127 min   \n",
              "24          1998  TV-14    166 min   \n",
              "\n",
              "                                           listed_in  \\\n",
              "7   Dramas, Independent Movies, International Movies   \n",
              "8                       British TV Shows, Reality TV   \n",
              "9                                   Comedies, Dramas   \n",
              "12                      Dramas, International Movies   \n",
              "24   Comedies, International Movies, Romantic Movies   \n",
              "\n",
              "                                          description  \n",
              "7   On a photo shoot in Ghana, an American model s...  \n",
              "8   A talented batch of amateur bakers face off in...  \n",
              "9   A woman adjusting to life after a loss contend...  \n",
              "12  After most of her family is murdered in a terr...  \n",
              "24  When the father of the man she loves insists t...  "
            ]
          },
          "execution_count": 19,
          "metadata": {},
          "output_type": "execute_result"
        }
      ],
      "source": [
        "df.head()"
      ]
    },
    {
      "cell_type": "code",
      "execution_count": 20,
      "metadata": {
        "colab": {
          "base_uri": "https://localhost:8080/",
          "height": 481
        },
        "id": "y2oz4A-Jp7Va",
        "outputId": "b2d37a75-baf7-4e26-d39b-596abc503aed"
      },
      "outputs": [
        {
          "data": {
            "image/png": "[encoded data removed]",
            "text/plain": [
              "<Figure size 1600x600 with 1 Axes>"
            ]
          },
          "metadata": {},
          "output_type": "display_data"
        }
      ],
      "source": [
        "plt.figure(figsize=(16, 6))\n",
        "content_growth = df.groupby('release_year').size().reset_index(name='count')\n",
        "plt.plot(content_growth['release_year'], content_growth['count'], color='blue')\n",
        "plt.xlabel('Release Year')\n",
        "plt.ylabel('Release Count')\n",
        "plt.title('Titles per Year')\n",
        "plt.grid(True, linestyle='--', alpha=0.5)\n",
        "plt.show()"
      ]
    },
    {
      "cell_type": "code",
      "execution_count": 21,
      "metadata": {
        "colab": {
          "base_uri": "https://localhost:8080/",
          "height": 564
        },
        "id": "d597b2e2",
        "outputId": "2e208c0b-6598-4ad4-95c3-1fe0a7a26c77"
      },
      "outputs": [
        {
          "data": {
            "image/png": "[encoded data removed]",
            "text/plain": [
              "<Figure size 1000x600 with 1 Axes>"
            ]
          },
          "metadata": {},
          "output_type": "display_data"
        }
      ],
      "source": [
        "movies_df = df[df['type'] == 'Movie'].copy()\n",
        "df['duration_minutes'] = movies_df['duration'].str.replace(' min', '').astype(float)\n",
        "\n",
        "plt.figure(figsize=(10, 6))\n",
        "plt.hist(df['duration_minutes'], bins=30, edgecolor='black')\n",
        "plt.xlabel('Duration (minutes)')\n",
        "plt.ylabel('Frequency')\n",
        "plt.title('Distribution of Movie Durations on Netflix')\n",
        "plt.show()"
      ]
    },
    {
      "cell_type": "code",
      "execution_count": 22,
      "metadata": {
        "colab": {
          "base_uri": "https://localhost:8080/"
        },
        "id": "odbL1MJlPxTk",
        "outputId": "a6d96802-d388-4c37-9f3c-85384e36b5e0"
      },
      "outputs": [
        {
          "data": {
            "text/plain": [
              "np.float64(0.28147040573415033)"
            ]
          },
          "execution_count": 22,
          "metadata": {},
          "output_type": "execute_result"
        }
      ],
      "source": [
        "df['duration_minutes'].skew()"
      ]
    },
    {
      "cell_type": "code",
      "execution_count": 23,
      "metadata": {
        "colab": {
          "base_uri": "https://localhost:8080/",
          "height": 549
        },
        "id": "69aee365",
        "outputId": "60327ada-4ea3-4cb9-8f6f-f16b6ec3288f"
      },
      "outputs": [
        {
          "data": {
            "image/png": "[encoded data removed]",
            "text/plain": [
              "<Figure size 1200x600 with 1 Axes>"
            ]
          },
          "metadata": {},
          "output_type": "display_data"
        }
      ],
      "source": [
        "df['date_added'] = pd.to_datetime(df['date_added'], errors='coerce')\n",
        "df['year_added'] = df['date_added'].dt.year\n",
        "titles_per_year = df['year_added'].value_counts().sort_index()\n",
        "\n",
        "plt.figure(figsize=(12, 6))\n",
        "titles_per_year.plot(kind='bar')\n",
        "plt.xlabel('Year Added')\n",
        "plt.ylabel('Number of Titles Added')\n",
        "plt.title('Number of Titles Added to Netflix Per Year')\n",
        "plt.xticks(rotation=0)\n",
        "plt.tight_layout()\n",
        "plt.show()"
      ]
    },
    {
      "cell_type": "code",
      "execution_count": 24,
      "metadata": {
        "colab": {
          "base_uri": "https://localhost:8080/"
        },
        "id": "4d3f67d0",
        "outputId": "ab64d4f4-0fd8-476b-d14f-b04266af2cb8"
      },
      "outputs": [
        {
          "name": "stdout",
          "output_type": "stream",
          "text": [
            "The year with the highest number of releases is: 2019.0 with 1264 titles.\n"
          ]
        }
      ],
      "source": [
        "year_highest_releases = titles_per_year.idxmax()\n",
        "count_highest_releases = titles_per_year.max()\n",
        "\n",
        "print(f\"The year with the highest number of releases is: {year_highest_releases} with {count_highest_releases} titles.\")"
      ]
    },
    {
      "cell_type": "code",
      "execution_count": 25,
      "metadata": {
        "colab": {
          "base_uri": "https://localhost:8080/"
        },
        "id": "d625634e",
        "outputId": "bf7d5687-015a-4e03-f0fc-221feb95b2e9"
      },
      "outputs": [
        {
          "name": "stdout",
          "output_type": "stream",
          "text": [
            "Percentage of titles added in the last 5 years (2017.0-2021.0): 94.43%\n"
          ]
        }
      ],
      "source": [
        "most_recent_year = df['year_added'].max()\n",
        "start_year_last_5 = most_recent_year - 4\n",
        "titles_last_5_years = df[df['year_added'] >= start_year_last_5]\n",
        "percentage_last_5_years = (len(titles_last_5_years) / len(df)) * 100\n",
        "print(f\"Percentage of titles added in the last 5 years ({start_year_last_5}-{most_recent_year}): {percentage_last_5_years:.2f}%\")"
      ]
    },
    {
      "cell_type": "code",
      "execution_count": 26,
      "metadata": {
        "colab": {
          "base_uri": "https://localhost:8080/"
        },
        "id": "J3DCaj4KyRSu",
        "outputId": "272d67ca-08a0-4700-8b67-32106599ef50"
      },
      "outputs": [
        {
          "name": "stdout",
          "output_type": "stream",
          "text": [
            "The most common rating for Movies is: TV-MA\n",
            "The most common rating for TV Shows is: TV-MA\n"
          ]
        }
      ],
      "source": [
        "movies_df = df[df['type'] == 'Movie']\n",
        "tvshows_df = df[df['type'] == 'TV Show']\n",
        "most_common_movie_rating = movies_df['rating'].value_counts().idxmax()\n",
        "most_common_tvshow_rating = tvshows_df['rating'].value_counts().idxmax()\n",
        "\n",
        "print(f\"The most common rating for Movies is: {most_common_movie_rating}\")\n",
        "print(f\"The most common rating for TV Shows is: {most_common_tvshow_rating}\")"
      ]
    },
    {
      "cell_type": "code",
      "execution_count": 27,
      "metadata": {
        "colab": {
          "base_uri": "https://localhost:8080/",
          "height": 467
        },
        "id": "72cb4184",
        "outputId": "c95e1491-9279-4c59-ff0b-9f39aab75a0c"
      },
      "outputs": [
        {
          "data": {
            "text/html": [
              "<div>\n",
              "<style scoped>\n",
              "    .dataframe tbody tr th:only-of-type {\n",
              "        vertical-align: middle;\n",
              "    }\n",
              "\n",
              "    .dataframe tbody tr th {\n",
              "        vertical-align: top;\n",
              "    }\n",
              "\n",
              "    .dataframe thead th {\n",
              "        text-align: right;\n",
              "    }\n",
              "</style>\n",
              "<table border=\"1\" class=\"dataframe\">\n",
              "  <thead>\n",
              "    <tr style=\"text-align: right;\">\n",
              "      <th></th>\n",
              "      <th>title</th>\n",
              "      <th>release_year</th>\n",
              "      <th>release_year_quartile</th>\n",
              "    </tr>\n",
              "  </thead>\n",
              "  <tbody>\n",
              "    <tr>\n",
              "      <th>7</th>\n",
              "      <td>Sankofa</td>\n",
              "      <td>1993</td>\n",
              "      <td>Q1</td>\n",
              "    </tr>\n",
              "    <tr>\n",
              "      <th>8</th>\n",
              "      <td>The Great British Baking Show</td>\n",
              "      <td>2021</td>\n",
              "      <td>Q4</td>\n",
              "    </tr>\n",
              "    <tr>\n",
              "      <th>9</th>\n",
              "      <td>The Starling</td>\n",
              "      <td>2021</td>\n",
              "      <td>Q4</td>\n",
              "    </tr>\n",
              "    <tr>\n",
              "      <th>12</th>\n",
              "      <td>Je Suis Karl</td>\n",
              "      <td>2021</td>\n",
              "      <td>Q4</td>\n",
              "    </tr>\n",
              "    <tr>\n",
              "      <th>24</th>\n",
              "      <td>Jeans</td>\n",
              "      <td>1998</td>\n",
              "      <td>Q1</td>\n",
              "    </tr>\n",
              "  </tbody>\n",
              "</table>\n",
              "</div>"
            ],
            "text/plain": [
              "                            title  release_year release_year_quartile\n",
              "7                         Sankofa          1993                    Q1\n",
              "8   The Great British Baking Show          2021                    Q4\n",
              "9                    The Starling          2021                    Q4\n",
              "12                   Je Suis Karl          2021                    Q4\n",
              "24                          Jeans          1998                    Q1"
            ]
          },
          "metadata": {},
          "output_type": "display_data"
        },
        {
          "name": "stdout",
          "output_type": "stream",
          "text": [
            "Range of release years for each quartile:\n"
          ]
        },
        {
          "name": "stderr",
          "output_type": "stream",
          "text": [
            "C:\\Users\\karthikeyan.s\\AppData\\Local\\Temp\\ipykernel_9804\\102438254.py:4: FutureWarning: The default of observed=False is deprecated and will be changed to True in a future version of pandas. Pass observed=False to retain current behavior or observed=True to adopt the future default and silence this warning.\n",
            "  quartile_ranges = df.groupby('release_year_quartile')['release_year'].agg(['min', 'max'])\n"
          ]
        },
        {
          "data": {
            "text/html": [
              "<div>\n",
              "<style scoped>\n",
              "    .dataframe tbody tr th:only-of-type {\n",
              "        vertical-align: middle;\n",
              "    }\n",
              "\n",
              "    .dataframe tbody tr th {\n",
              "        vertical-align: top;\n",
              "    }\n",
              "\n",
              "    .dataframe thead th {\n",
              "        text-align: right;\n",
              "    }\n",
              "</style>\n",
              "<table border=\"1\" class=\"dataframe\">\n",
              "  <thead>\n",
              "    <tr style=\"text-align: right;\">\n",
              "      <th></th>\n",
              "      <th>min</th>\n",
              "      <th>max</th>\n",
              "    </tr>\n",
              "    <tr>\n",
              "      <th>release_year_quartile</th>\n",
              "      <th></th>\n",
              "      <th></th>\n",
              "    </tr>\n",
              "  </thead>\n",
              "  <tbody>\n",
              "    <tr>\n",
              "      <th>Q1</th>\n",
              "      <td>1942</td>\n",
              "      <td>2011</td>\n",
              "    </tr>\n",
              "    <tr>\n",
              "      <th>Q2</th>\n",
              "      <td>2012</td>\n",
              "      <td>2016</td>\n",
              "    </tr>\n",
              "    <tr>\n",
              "      <th>Q3</th>\n",
              "      <td>2017</td>\n",
              "      <td>2018</td>\n",
              "    </tr>\n",
              "    <tr>\n",
              "      <th>Q4</th>\n",
              "      <td>2019</td>\n",
              "      <td>2021</td>\n",
              "    </tr>\n",
              "  </tbody>\n",
              "</table>\n",
              "</div>"
            ],
            "text/plain": [
              "                        min   max\n",
              "release_year_quartile            \n",
              "Q1                     1942  2011\n",
              "Q2                     2012  2016\n",
              "Q3                     2017  2018\n",
              "Q4                     2019  2021"
            ]
          },
          "execution_count": 27,
          "metadata": {},
          "output_type": "execute_result"
        }
      ],
      "source": [
        "df['release_year_quartile'] = pd.qcut(df['release_year'], q=4, labels=['Q1', 'Q2', 'Q3', 'Q4'])\n",
        "display(df[['title', 'release_year', 'release_year_quartile']].head())\n",
        "\n",
        "quartile_ranges = df.groupby('release_year_quartile')['release_year'].agg(['min', 'max'])\n",
        "print(\"Range of release years for each quartile:\")\n",
        "quartile_ranges"
      ]
    },
    {
      "cell_type": "code",
      "execution_count": 28,
      "metadata": {
        "colab": {
          "base_uri": "https://localhost:8080/",
          "height": 607
        },
        "id": "Pahz1cckM6zt",
        "outputId": "9184a630-2a9e-40dd-ed69-d92a12929cc9"
      },
      "outputs": [
        {
          "data": {
            "image/png": "[encoded data removed]",
            "text/plain": [
              "<Figure size 800x600 with 1 Axes>"
            ]
          },
          "metadata": {},
          "output_type": "display_data"
        }
      ],
      "source": [
        "quartile_counts = df['release_year_quartile'].value_counts().sort_index()\n",
        "\n",
        "plt.figure(figsize=(8, 6))\n",
        "quartile_counts.plot(kind='bar')\n",
        "plt.xlabel('Release Year Quartile')\n",
        "plt.ylabel('Count')\n",
        "plt.title('Number of Titles by Release Year Quartile')\n",
        "plt.xticks(rotation=0)\n",
        "plt.tight_layout()\n",
        "plt.show()"
      ]
    },
    {
      "cell_type": "code",
      "execution_count": 29,
      "metadata": {
        "colab": {
          "base_uri": "https://localhost:8080/",
          "height": 677
        },
        "id": "S-now8Z-moYq",
        "outputId": "ad93e005-7e40-4114-f5a0-d2cad180c32f"
      },
      "outputs": [
        {
          "data": {
            "text/html": [
              "<div>\n",
              "<style scoped>\n",
              "    .dataframe tbody tr th:only-of-type {\n",
              "        vertical-align: middle;\n",
              "    }\n",
              "\n",
              "    .dataframe tbody tr th {\n",
              "        vertical-align: top;\n",
              "    }\n",
              "\n",
              "    .dataframe thead th {\n",
              "        text-align: right;\n",
              "    }\n",
              "</style>\n",
              "<table border=\"1\" class=\"dataframe\">\n",
              "  <thead>\n",
              "    <tr style=\"text-align: right;\">\n",
              "      <th></th>\n",
              "      <th>show_id</th>\n",
              "      <th>type</th>\n",
              "      <th>title</th>\n",
              "      <th>director</th>\n",
              "      <th>cast</th>\n",
              "      <th>country</th>\n",
              "      <th>date_added</th>\n",
              "      <th>release_year</th>\n",
              "      <th>rating</th>\n",
              "      <th>duration</th>\n",
              "      <th>listed_in</th>\n",
              "      <th>description</th>\n",
              "      <th>duration_minutes</th>\n",
              "      <th>year_added</th>\n",
              "      <th>release_year_quartile</th>\n",
              "    </tr>\n",
              "  </thead>\n",
              "  <tbody>\n",
              "    <tr>\n",
              "      <th>7</th>\n",
              "      <td>s8</td>\n",
              "      <td>Movie</td>\n",
              "      <td>Sankofa</td>\n",
              "      <td>Haile Gerima</td>\n",
              "      <td>Kofi Ghanaba, Oyafunmike Ogunlano, Alexandra D...</td>\n",
              "      <td>United States, Ghana, Burkina Faso, United Kin...</td>\n",
              "      <td>2021-09-24</td>\n",
              "      <td>1993</td>\n",
              "      <td>TV-MA</td>\n",
              "      <td>125 min</td>\n",
              "      <td>Dramas, Independent Movies, International Movies</td>\n",
              "      <td>On a photo shoot in Ghana, an American model s...</td>\n",
              "      <td>125.0</td>\n",
              "      <td>2021.0</td>\n",
              "      <td>Q1</td>\n",
              "    </tr>\n",
              "    <tr>\n",
              "      <th>8</th>\n",
              "      <td>s9</td>\n",
              "      <td>TV Show</td>\n",
              "      <td>The Great British Baking Show</td>\n",
              "      <td>Andy Devonshire</td>\n",
              "      <td>Mel Giedroyc, Sue Perkins, Mary Berry, Paul Ho...</td>\n",
              "      <td>United Kingdom</td>\n",
              "      <td>2021-09-24</td>\n",
              "      <td>2021</td>\n",
              "      <td>TV-14</td>\n",
              "      <td>9 Seasons</td>\n",
              "      <td>British TV Shows, Reality TV</td>\n",
              "      <td>A talented batch of amateur bakers face off in...</td>\n",
              "      <td>NaN</td>\n",
              "      <td>2021.0</td>\n",
              "      <td>Q4</td>\n",
              "    </tr>\n",
              "    <tr>\n",
              "      <th>9</th>\n",
              "      <td>s10</td>\n",
              "      <td>Movie</td>\n",
              "      <td>The Starling</td>\n",
              "      <td>Theodore Melfi</td>\n",
              "      <td>Melissa McCarthy, Chris O'Dowd, Kevin Kline, T...</td>\n",
              "      <td>United States</td>\n",
              "      <td>2021-09-24</td>\n",
              "      <td>2021</td>\n",
              "      <td>PG-13</td>\n",
              "      <td>104 min</td>\n",
              "      <td>Comedies, Dramas</td>\n",
              "      <td>A woman adjusting to life after a loss contend...</td>\n",
              "      <td>104.0</td>\n",
              "      <td>2021.0</td>\n",
              "      <td>Q4</td>\n",
              "    </tr>\n",
              "    <tr>\n",
              "      <th>12</th>\n",
              "      <td>s13</td>\n",
              "      <td>Movie</td>\n",
              "      <td>Je Suis Karl</td>\n",
              "      <td>Christian Schwochow</td>\n",
              "      <td>Luna Wedler, Jannis Niewöhner, Milan Peschel, ...</td>\n",
              "      <td>Germany, Czech Republic</td>\n",
              "      <td>2021-09-23</td>\n",
              "      <td>2021</td>\n",
              "      <td>TV-MA</td>\n",
              "      <td>127 min</td>\n",
              "      <td>Dramas, International Movies</td>\n",
              "      <td>After most of her family is murdered in a terr...</td>\n",
              "      <td>127.0</td>\n",
              "      <td>2021.0</td>\n",
              "      <td>Q4</td>\n",
              "    </tr>\n",
              "    <tr>\n",
              "      <th>24</th>\n",
              "      <td>s25</td>\n",
              "      <td>Movie</td>\n",
              "      <td>Jeans</td>\n",
              "      <td>S. Shankar</td>\n",
              "      <td>Prashanth, Aishwarya Rai Bachchan, Sri Lakshmi...</td>\n",
              "      <td>India</td>\n",
              "      <td>2021-09-21</td>\n",
              "      <td>1998</td>\n",
              "      <td>TV-14</td>\n",
              "      <td>166 min</td>\n",
              "      <td>Comedies, International Movies, Romantic Movies</td>\n",
              "      <td>When the father of the man she loves insists t...</td>\n",
              "      <td>166.0</td>\n",
              "      <td>2021.0</td>\n",
              "      <td>Q1</td>\n",
              "    </tr>\n",
              "  </tbody>\n",
              "</table>\n",
              "</div>"
            ],
            "text/plain": [
              "   show_id     type                          title             director  \\\n",
              "7       s8    Movie                        Sankofa         Haile Gerima   \n",
              "8       s9  TV Show  The Great British Baking Show      Andy Devonshire   \n",
              "9      s10    Movie                   The Starling       Theodore Melfi   \n",
              "12     s13    Movie                   Je Suis Karl  Christian Schwochow   \n",
              "24     s25    Movie                          Jeans           S. Shankar   \n",
              "\n",
              "                                                 cast  \\\n",
              "7   Kofi Ghanaba, Oyafunmike Ogunlano, Alexandra D...   \n",
              "8   Mel Giedroyc, Sue Perkins, Mary Berry, Paul Ho...   \n",
              "9   Melissa McCarthy, Chris O'Dowd, Kevin Kline, T...   \n",
              "12  Luna Wedler, Jannis Niewöhner, Milan Peschel, ...   \n",
              "24  Prashanth, Aishwarya Rai Bachchan, Sri Lakshmi...   \n",
              "\n",
              "                                              country date_added  \\\n",
              "7   United States, Ghana, Burkina Faso, United Kin... 2021-09-24   \n",
              "8                                      United Kingdom 2021-09-24   \n",
              "9                                       United States 2021-09-24   \n",
              "12                            Germany, Czech Republic 2021-09-23   \n",
              "24                                              India 2021-09-21   \n",
              "\n",
              "    release_year rating   duration  \\\n",
              "7           1993  TV-MA    125 min   \n",
              "8           2021  TV-14  9 Seasons   \n",
              "9           2021  PG-13    104 min   \n",
              "12          2021  TV-MA    127 min   \n",
              "24          1998  TV-14    166 min   \n",
              "\n",
              "                                           listed_in  \\\n",
              "7   Dramas, Independent Movies, International Movies   \n",
              "8                       British TV Shows, Reality TV   \n",
              "9                                   Comedies, Dramas   \n",
              "12                      Dramas, International Movies   \n",
              "24   Comedies, International Movies, Romantic Movies   \n",
              "\n",
              "                                          description  duration_minutes  \\\n",
              "7   On a photo shoot in Ghana, an American model s...             125.0   \n",
              "8   A talented batch of amateur bakers face off in...               NaN   \n",
              "9   A woman adjusting to life after a loss contend...             104.0   \n",
              "12  After most of her family is murdered in a terr...             127.0   \n",
              "24  When the father of the man she loves insists t...             166.0   \n",
              "\n",
              "    year_added release_year_quartile  \n",
              "7       2021.0                    Q1  \n",
              "8       2021.0                    Q4  \n",
              "9       2021.0                    Q4  \n",
              "12      2021.0                    Q4  \n",
              "24      2021.0                    Q1  "
            ]
          },
          "execution_count": 29,
          "metadata": {},
          "output_type": "execute_result"
        }
      ],
      "source": [
        "df.head()"
      ]
    },
    {
      "cell_type": "code",
      "execution_count": 30,
      "metadata": {
        "colab": {
          "base_uri": "https://localhost:8080/",
          "height": 712
        },
        "id": "9df85729",
        "outputId": "107cb7f2-1487-40c4-cc25-afb4cddbebbe"
      },
      "outputs": [
        {
          "data": {
            "text/html": [
              "<div>\n",
              "<style scoped>\n",
              "    .dataframe tbody tr th:only-of-type {\n",
              "        vertical-align: middle;\n",
              "    }\n",
              "\n",
              "    .dataframe tbody tr th {\n",
              "        vertical-align: top;\n",
              "    }\n",
              "\n",
              "    .dataframe thead th {\n",
              "        text-align: right;\n",
              "    }\n",
              "</style>\n",
              "<table border=\"1\" class=\"dataframe\">\n",
              "  <thead>\n",
              "    <tr style=\"text-align: right;\">\n",
              "      <th></th>\n",
              "      <th>show_id</th>\n",
              "      <th>type</th>\n",
              "      <th>title</th>\n",
              "      <th>director</th>\n",
              "      <th>cast</th>\n",
              "      <th>country</th>\n",
              "      <th>date_added</th>\n",
              "      <th>release_year</th>\n",
              "      <th>rating</th>\n",
              "      <th>duration</th>\n",
              "      <th>listed_in</th>\n",
              "      <th>description</th>\n",
              "      <th>duration_minutes</th>\n",
              "      <th>year_added</th>\n",
              "      <th>release_year_quartile</th>\n",
              "    </tr>\n",
              "  </thead>\n",
              "  <tbody>\n",
              "    <tr>\n",
              "      <th>1150</th>\n",
              "      <td>s1151</td>\n",
              "      <td>Movie</td>\n",
              "      <td>7 Yards: The Chris Norton Story</td>\n",
              "      <td>Jonathon Link</td>\n",
              "      <td>Chris Norton</td>\n",
              "      <td>United States</td>\n",
              "      <td>2021-03-30</td>\n",
              "      <td>2021</td>\n",
              "      <td>TV-PG</td>\n",
              "      <td>93 min</td>\n",
              "      <td>Documentaries</td>\n",
              "      <td>The true story of former college football play...</td>\n",
              "      <td>93.0</td>\n",
              "      <td>2021.0</td>\n",
              "      <td>Q4</td>\n",
              "    </tr>\n",
              "    <tr>\n",
              "      <th>850</th>\n",
              "      <td>s851</td>\n",
              "      <td>Movie</td>\n",
              "      <td>99 Songs</td>\n",
              "      <td>Vishwesh Krishnamoorthy</td>\n",
              "      <td>Ehan Bhat, Edilsy Vargas, Manisha Koirala, Lis...</td>\n",
              "      <td>India</td>\n",
              "      <td>2021-05-21</td>\n",
              "      <td>2021</td>\n",
              "      <td>TV-14</td>\n",
              "      <td>131 min</td>\n",
              "      <td>Dramas, International Movies, Music &amp; Musicals</td>\n",
              "      <td>Challenged to compose 100 songs before he can ...</td>\n",
              "      <td>131.0</td>\n",
              "      <td>2021.0</td>\n",
              "      <td>Q4</td>\n",
              "    </tr>\n",
              "    <tr>\n",
              "      <th>463</th>\n",
              "      <td>s464</td>\n",
              "      <td>Movie</td>\n",
              "      <td>A Classic Horror Story</td>\n",
              "      <td>Roberto De Feo, Paolo Strippoli</td>\n",
              "      <td>Matilda Lutz, Francesco Russo, Peppino Mazzott...</td>\n",
              "      <td>Italy</td>\n",
              "      <td>2021-07-14</td>\n",
              "      <td>2021</td>\n",
              "      <td>TV-MA</td>\n",
              "      <td>95 min</td>\n",
              "      <td>Horror Movies, International Movies</td>\n",
              "      <td>In this gruesome suspense film, strangers trav...</td>\n",
              "      <td>95.0</td>\n",
              "      <td>2021.0</td>\n",
              "      <td>Q4</td>\n",
              "    </tr>\n",
              "    <tr>\n",
              "      <th>452</th>\n",
              "      <td>s453</td>\n",
              "      <td>Movie</td>\n",
              "      <td>A Perfect Fit</td>\n",
              "      <td>Hadrah Daeng Ratu</td>\n",
              "      <td>Nadya Arina, Refal Hady, Giorgino Abraham, Ang...</td>\n",
              "      <td>Indonesia</td>\n",
              "      <td>2021-07-15</td>\n",
              "      <td>2021</td>\n",
              "      <td>TV-PG</td>\n",
              "      <td>113 min</td>\n",
              "      <td>Comedies, Dramas, International Movies</td>\n",
              "      <td>Sparks fly when a fashion blogger in Bali meet...</td>\n",
              "      <td>113.0</td>\n",
              "      <td>2021.0</td>\n",
              "      <td>Q4</td>\n",
              "    </tr>\n",
              "    <tr>\n",
              "      <th>393</th>\n",
              "      <td>s394</td>\n",
              "      <td>Movie</td>\n",
              "      <td>A Second Chance:  Rivals!</td>\n",
              "      <td>Clay Glen</td>\n",
              "      <td>Emily Morris, Stella Shute, Eva Grados, India ...</td>\n",
              "      <td>Australia</td>\n",
              "      <td>2021-07-23</td>\n",
              "      <td>2021</td>\n",
              "      <td>PG</td>\n",
              "      <td>91 min</td>\n",
              "      <td>Children &amp; Family Movies, Sports Movies</td>\n",
              "      <td>Crushed when she doesn't qualify for the Olymp...</td>\n",
              "      <td>91.0</td>\n",
              "      <td>2021.0</td>\n",
              "      <td>Q4</td>\n",
              "    </tr>\n",
              "  </tbody>\n",
              "</table>\n",
              "</div>"
            ],
            "text/plain": [
              "     show_id   type                            title  \\\n",
              "1150   s1151  Movie  7 Yards: The Chris Norton Story   \n",
              "850     s851  Movie                         99 Songs   \n",
              "463     s464  Movie           A Classic Horror Story   \n",
              "452     s453  Movie                    A Perfect Fit   \n",
              "393     s394  Movie        A Second Chance:  Rivals!   \n",
              "\n",
              "                             director  \\\n",
              "1150                    Jonathon Link   \n",
              "850           Vishwesh Krishnamoorthy   \n",
              "463   Roberto De Feo, Paolo Strippoli   \n",
              "452                 Hadrah Daeng Ratu   \n",
              "393                         Clay Glen   \n",
              "\n",
              "                                                   cast        country  \\\n",
              "1150                                       Chris Norton  United States   \n",
              "850   Ehan Bhat, Edilsy Vargas, Manisha Koirala, Lis...          India   \n",
              "463   Matilda Lutz, Francesco Russo, Peppino Mazzott...          Italy   \n",
              "452   Nadya Arina, Refal Hady, Giorgino Abraham, Ang...      Indonesia   \n",
              "393   Emily Morris, Stella Shute, Eva Grados, India ...      Australia   \n",
              "\n",
              "     date_added  release_year rating duration  \\\n",
              "1150 2021-03-30          2021  TV-PG   93 min   \n",
              "850  2021-05-21          2021  TV-14  131 min   \n",
              "463  2021-07-14          2021  TV-MA   95 min   \n",
              "452  2021-07-15          2021  TV-PG  113 min   \n",
              "393  2021-07-23          2021     PG   91 min   \n",
              "\n",
              "                                           listed_in  \\\n",
              "1150                                   Documentaries   \n",
              "850   Dramas, International Movies, Music & Musicals   \n",
              "463              Horror Movies, International Movies   \n",
              "452           Comedies, Dramas, International Movies   \n",
              "393          Children & Family Movies, Sports Movies   \n",
              "\n",
              "                                            description  duration_minutes  \\\n",
              "1150  The true story of former college football play...              93.0   \n",
              "850   Challenged to compose 100 songs before he can ...             131.0   \n",
              "463   In this gruesome suspense film, strangers trav...              95.0   \n",
              "452   Sparks fly when a fashion blogger in Bali meet...             113.0   \n",
              "393   Crushed when she doesn't qualify for the Olymp...              91.0   \n",
              "\n",
              "      year_added release_year_quartile  \n",
              "1150      2021.0                    Q4  \n",
              "850       2021.0                    Q4  \n",
              "463       2021.0                    Q4  \n",
              "452       2021.0                    Q4  \n",
              "393       2021.0                    Q4  "
            ]
          },
          "metadata": {},
          "output_type": "display_data"
        }
      ],
      "source": [
        "movies_df = df[df['type'] == 'Movie'].copy()\n",
        "sorted_movies = movies_df.sort_values(by=['release_year', 'title'], ascending=[False, True])\n",
        "display(sorted_movies.head())"
      ]
    },
    {
      "cell_type": "code",
      "execution_count": 31,
      "metadata": {
        "colab": {
          "base_uri": "https://localhost:8080/",
          "height": 272
        },
        "id": "b00c3f8a",
        "outputId": "4491dfa1-b966-4daa-d72d-0a49eca9509e"
      },
      "outputs": [
        {
          "data": {
            "text/plain": [
              "country\n",
              "United States     1846\n",
              "India              875\n",
              "United Kingdom     183\n",
              "Canada             107\n",
              "Spain               91\n",
              "Name: count, dtype: int64"
            ]
          },
          "metadata": {},
          "output_type": "display_data"
        }
      ],
      "source": [
        "top_5_countries = df['country'].value_counts().head(5)\n",
        "display(top_5_countries)"
      ]
    },
    {
      "cell_type": "code",
      "execution_count": 32,
      "metadata": {
        "colab": {
          "base_uri": "https://localhost:8080/",
          "height": 458
        },
        "id": "6f05110f",
        "outputId": "717aba58-3575-40a8-8c66-f930049eb837"
      },
      "outputs": [
        {
          "data": {
            "text/plain": [
              "27                                              Grown Ups\n",
              "48                                           Training Day\n",
              "51      InuYasha the Movie 2: The Castle Beyond the Lo...\n",
              "52      InuYasha the Movie 3: Swords of an Honorable R...\n",
              "53        InuYasha the Movie 4: Fire on the Mystic Island\n",
              "                              ...                        \n",
              "8793                                 Yours, Mine and Ours\n",
              "8799                                                Zenda\n",
              "8802                                               Zodiac\n",
              "8804                                           Zombieland\n",
              "8805                                                 Zoom\n",
              "Name: title, Length: 801, dtype: object"
            ]
          },
          "execution_count": 32,
          "metadata": {},
          "output_type": "execute_result"
        }
      ],
      "source": [
        "titles_2000_2010 = df[(df['release_year'] >= 2000) & (df['release_year'] <= 2010)]\n",
        "titles_2000_2010['title']"
      ]
    },
    {
      "cell_type": "code",
      "execution_count": 33,
      "metadata": {
        "colab": {
          "base_uri": "https://localhost:8080/"
        },
        "id": "b7528c8c",
        "outputId": "a0dddc8f-5538-4581-c8a2-c79ef1973965"
      },
      "outputs": [
        {
          "name": "stdout",
          "output_type": "stream",
          "text": [
            "Number of titles with 'Drama' in listed_in: 2345\n"
          ]
        }
      ],
      "source": [
        "drama_titles_count = df['listed_in'].str.contains('Drama', na=False).sum()\n",
        "print(f\"Number of titles with 'Drama' in listed_in: {drama_titles_count}\")"
      ]
    }
  ],
  "metadata": {
    "colab": {
      "provenance": []
    },
    "kernelspec": {
      "display_name": "Python 3",
      "name": "python3"
    },
    "language_info": {
      "codemirror_mode": {
        "name": "ipython",
        "version": 3
      },
      "file_extension": ".py",
      "mimetype": "text/x-python",
      "name": "python",
      "nbconvert_exporter": "python",
      "pygments_lexer": "ipython3",
      "version": "3.10.18"
    }
  },
  "nbformat": 4,
  "nbformat_minor": 0
}
